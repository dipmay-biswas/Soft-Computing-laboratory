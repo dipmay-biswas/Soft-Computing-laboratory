{
  "nbformat": 4,
  "nbformat_minor": 0,
  "metadata": {
    "colab": {
      "provenance": [],
      "authorship_tag": "ABX9TyOG06On4LHbacLfGtQ++enT",
      "include_colab_link": true
    },
    "kernelspec": {
      "name": "python3",
      "display_name": "Python 3"
    },
    "language_info": {
      "name": "python"
    }
  },
  "cells": [
    {
      "cell_type": "markdown",
      "metadata": {
        "id": "view-in-github",
        "colab_type": "text"
      },
      "source": [
        "<a href=\"https://colab.research.google.com/github/dipmay-biswas/Soft-Computing-laboratory/blob/master/2021CSB043_assignment_5.ipynb\" target=\"_parent\"><img src=\"https://colab.research.google.com/assets/colab-badge.svg\" alt=\"Open In Colab\"/></a>"
      ]
    },
    {
      "cell_type": "markdown",
      "source": [
        "#Assignment 5: Genetic Algorithm\n",
        "\n",
        "> Name: ***Dipmay Biswas***\n",
        "\n",
        "> Enrollment ID: ***2021CSB043***"
      ],
      "metadata": {
        "id": "k9PzhS6Is2vA"
      }
    },
    {
      "cell_type": "markdown",
      "source": [
        "<div>\n",
        "<img src=\"https://media.licdn.com/dms/image/D4D12AQHZU6e1FfwumQ/article-cover_image-shrink_423_752/0/1660981267994?e=1704931200&v=beta&t=5uOaI4NaE8uOWMiSO2YcU81f8D3Q3wY2u-YoCv9jpoU\" width=\"400\"/>\n",
        "</div>"
      ],
      "metadata": {
        "id": "IXyKnqBvry-f"
      }
    },
    {
      "cell_type": "markdown",
      "source": [
        "####**Task**: *Travelling* Salesman Problem (TSP) : Given a set of cities and distances between every pair of cities, the problem is to find the shortest possible route that visits every city exactly once and returns to the starting point."
      ],
      "metadata": {
        "id": "KWhZoBi7Riqx"
      }
    },
    {
      "cell_type": "markdown",
      "source": [
        "Part 1: Create Initial Population\n",
        "\n",
        "\n",
        "```\n",
        "This code generates a random initial population of routes for the given number of cities.\n",
        "```\n",
        "\n",
        "\n"
      ],
      "metadata": {
        "id": "kY3Lp0aSoqpD"
      }
    },
    {
      "cell_type": "markdown",
      "source": [
        "<div>\n",
        "<img src=\"https://www.popsci.com/uploads/2023/08/23/chromosome.jpg?auto=webp&width=1440&height=810\" width=\"400\"/>\n",
        "</div>"
      ],
      "metadata": {
        "id": "jC1EZyyElVzt"
      }
    },
    {
      "cell_type": "code",
      "source": [
        "import random\n",
        "\n",
        "def create_initial_population(num_cities, population_size):\n",
        "    population = []\n",
        "    for _ in range(population_size):\n",
        "        tour = list(range(1, num_cities + 1))\n",
        "        random.shuffle(tour)\n",
        "        population.append(tour)\n",
        "    return population\n",
        "\n",
        "# Example usage for 5 cities\n",
        "num_cities = 5\n",
        "population_size = 10  # You can adjust the population size as needed\n",
        "initial_population = create_initial_population(num_cities, population_size)\n",
        "print(\"Initial Population:\")\n",
        "for tour in initial_population:\n",
        "    print(tour)\n"
      ],
      "metadata": {
        "colab": {
          "base_uri": "https://localhost:8080/"
        },
        "id": "KOfmdB_Botwd",
        "outputId": "84876412-3592-49f1-c2c0-29e9bebee465"
      },
      "execution_count": null,
      "outputs": [
        {
          "output_type": "stream",
          "name": "stdout",
          "text": [
            "Initial Population:\n",
            "[2, 1, 5, 4, 3]\n",
            "[4, 1, 5, 3, 2]\n",
            "[1, 5, 4, 2, 3]\n",
            "[1, 3, 5, 4, 2]\n",
            "[1, 5, 4, 3, 2]\n",
            "[5, 4, 2, 3, 1]\n",
            "[3, 2, 1, 4, 5]\n",
            "[5, 4, 3, 2, 1]\n",
            "[1, 3, 4, 5, 2]\n",
            "[2, 1, 3, 4, 5]\n"
          ]
        }
      ]
    },
    {
      "cell_type": "markdown",
      "source": [
        "Part 2: Calculate Fitness\n",
        "\n",
        "```\n",
        "This code calculates the fitness of a route as the inverse of its cost based on the given distance matrix.\n",
        "```\n",
        "\n",
        "\n",
        "\n",
        "\n"
      ],
      "metadata": {
        "id": "VNOL6hJ5o29l"
      }
    },
    {
      "cell_type": "code",
      "source": [
        "def calculate_fitness(tour, distance_matrix):\n",
        "    total_distance = 0\n",
        "    for i in range(num_cities):\n",
        "        from_city = tour[i]\n",
        "        to_city = tour[(i + 1) % num_cities]  # Wrap around to the first city\n",
        "        total_distance += distance_matrix[from_city - 1][to_city - 1]\n",
        "    return 1 / total_distance\n",
        "\n",
        "# Example usage for calculating fitness\n",
        "distance_matrix = [\n",
        "    [0, 20, 15, 10, 25],\n",
        "    [20, 0, 35, 40, 45],\n",
        "    [15, 35, 0, 55, 60],\n",
        "    [10, 40, 55, 0, 70],\n",
        "    [25, 45, 60, 70, 0]\n",
        "]\n",
        "\n",
        "tour = [1, 2, 3, 4, 5]  # Example tour\n",
        "fitness = calculate_fitness(tour, distance_matrix)\n",
        "print(f\"Fitness of the tour: {fitness}\")"
      ],
      "metadata": {
        "colab": {
          "base_uri": "https://localhost:8080/"
        },
        "id": "aNyHdNDno6Za",
        "outputId": "ddb27ec4-ffa3-4bcc-ce6b-483694ed4f1b"
      },
      "execution_count": null,
      "outputs": [
        {
          "output_type": "stream",
          "name": "stdout",
          "text": [
            "Fitness of the tour: 0.004878048780487805\n"
          ]
        }
      ]
    },
    {
      "cell_type": "markdown",
      "source": [
        "Part 3: Select the Best Genes\n",
        "\n",
        "```\n",
        "This code selects the best genes (parent routes) from the population based on their fitness values.\n",
        "```\n",
        "\n"
      ],
      "metadata": {
        "id": "KQcxuazmp_Ah"
      }
    },
    {
      "cell_type": "code",
      "source": [
        "def select_best_individuals(population, distance_matrix, num_select):\n",
        "    selected_individuals = sorted(population, key=lambda tour: -calculate_fitness(tour, distance_matrix))[:num_select]\n",
        "    return selected_individuals\n",
        "\n",
        "# Example usage for selecting the best individuals\n",
        "num_select = 3  # Number of individuals to select\n",
        "best_individuals = select_best_individuals(initial_population, distance_matrix, num_select)\n",
        "print(\"Best Individuals:\")\n",
        "for tour in best_individuals:\n",
        "    print(tour)"
      ],
      "metadata": {
        "colab": {
          "base_uri": "https://localhost:8080/"
        },
        "id": "gSJEYz_4pXSr",
        "outputId": "3a9fd6bd-840a-4492-e0ea-61bcef7a823d"
      },
      "execution_count": null,
      "outputs": [
        {
          "output_type": "stream",
          "name": "stdout",
          "text": [
            "Best Individuals:\n",
            "[4, 1, 5, 3, 2]\n",
            "[1, 5, 4, 2, 3]\n",
            "[5, 4, 2, 3, 1]\n"
          ]
        }
      ]
    },
    {
      "cell_type": "markdown",
      "source": [
        "Part 4: Crossover (Partial-Mapped Crossover)\n",
        "\n",
        "```\n",
        "This code performs Partial-Mapped Crossover (PMX) between two parent routes to create a child route.\n",
        "```\n",
        "\n"
      ],
      "metadata": {
        "id": "leUNE2dHqTdH"
      }
    },
    {
      "cell_type": "markdown",
      "source": [
        "<div>\n",
        "<img src=\"https://as2.ftcdn.net/v2/jpg/05/48/31/47/1000_F_548314762_sbYfc3FRvWWWeqU1brAvxR9RzcFGsKua.jpg\" width=\"400\"/>\n",
        "</div>"
      ],
      "metadata": {
        "id": "fmtw2SJwofnY"
      }
    },
    {
      "cell_type": "code",
      "source": [
        "def ordered_crossover(parent1, parent2):\n",
        "    start, end = sorted(random.sample(range(num_cities), 2))\n",
        "    child = [-1] * num_cities\n",
        "    child[start:end] = parent1[start:end]\n",
        "\n",
        "    index = end\n",
        "    for city in parent2:\n",
        "        if city not in child:\n",
        "            while child[index] != -1:\n",
        "                index = (index + 1) % num_cities\n",
        "            child[index] = city\n",
        "            index = (index + 1) % num_cities\n",
        "\n",
        "    return child\n",
        "\n",
        "# Example usage for crossover\n",
        "parent1 = [1, 2, 3, 4, 5]\n",
        "parent2 = [5, 4, 3, 2, 1]\n",
        "child = ordered_crossover(parent1, parent2)\n",
        "print(\"Child after crossover:\")\n",
        "print(child)"
      ],
      "metadata": {
        "colab": {
          "base_uri": "https://localhost:8080/"
        },
        "id": "gUbQKpk_qDa4",
        "outputId": "38e72a52-45c5-477c-e1c1-0406b5742232"
      },
      "execution_count": null,
      "outputs": [
        {
          "output_type": "stream",
          "name": "stdout",
          "text": [
            "Child after crossover:\n",
            "[1, 2, 3, 5, 4]\n"
          ]
        }
      ]
    },
    {
      "cell_type": "markdown",
      "source": [
        "Part 5: Mutation\n",
        "\n",
        "```\n",
        "This code performs mutation by swapping two randomly selected cities in a route with a specified mutation probability.\n",
        "```\n",
        "\n"
      ],
      "metadata": {
        "id": "NBmRVlQTqZ7j"
      }
    },
    {
      "cell_type": "markdown",
      "source": [
        "<div>\n",
        "<img src=\"https://d20khd7ddkh5ls.cloudfront.net/reciprocal_translocation.png\" width=\"300\" height=\"300\"/>\n",
        "</div>"
      ],
      "metadata": {
        "id": "WBk69QLQqxzB"
      }
    },
    {
      "cell_type": "code",
      "source": [
        "def mutate(tour, mutation_probability):\n",
        "    if random.random() < mutation_probability:\n",
        "        i, j = random.sample(range(num_cities), 2)\n",
        "        tour[i], tour[j] = tour[j], tour[i]\n",
        "    return tour\n",
        "\n",
        "# Example usage for mutation\n",
        "tour_to_mutate = [1, 2, 3, 4, 5]\n",
        "mutation_probability = 0.1  # Probability of mutation\n",
        "mutated_tour = mutate(tour_to_mutate, mutation_probability)\n",
        "print(\"Tour after mutation:\")\n",
        "print(mutated_tour)"
      ],
      "metadata": {
        "colab": {
          "base_uri": "https://localhost:8080/"
        },
        "id": "qZagzUJwqNcB",
        "outputId": "6e1f6d2d-a977-4795-8288-19e42a978046"
      },
      "execution_count": null,
      "outputs": [
        {
          "output_type": "stream",
          "name": "stdout",
          "text": [
            "Tour after mutation:\n",
            "[1, 2, 3, 4, 5]\n"
          ]
        }
      ]
    },
    {
      "cell_type": "markdown",
      "source": [
        "#**To find the best path in the Travelling Salesman Problem, use the sample example.**"
      ],
      "metadata": {
        "id": "Ef5Z1Mv2rG-C"
      }
    },
    {
      "cell_type": "code",
      "source": [
        "num_cities = 5\n",
        "population_size = 50\n",
        "generations = 100\n",
        "tournament_size = 5\n",
        "crossover_probability = 0.6\n",
        "mutation_probability = 0.1\n",
        "\n",
        "population = create_initial_population(num_cities, population_size)\n",
        "\n",
        "for generation in range(generations):\n",
        "    parents = select_best_individuals(population, distance_matrix, tournament_size)\n",
        "    children = []\n",
        "    while len(children) < population_size:\n",
        "        parent1, parent2 = random.sample(parents, 2)\n",
        "        child = ordered_crossover(parent1, parent2)\n",
        "        child = mutate(child, mutation_probability)\n",
        "        children.append(child)\n",
        "    population = children\n",
        "\n",
        "# Find the best tour after the genetic algorithm process\n",
        "best_tour = max(population, key=lambda tour: calculate_fitness(tour, distance_matrix))\n",
        "best_fitness = calculate_fitness(best_tour, distance_matrix)\n",
        "\n",
        "print(\"Best Tour:\", best_tour)\n",
        "print(\"Best Fitness:\", best_fitness)"
      ],
      "metadata": {
        "colab": {
          "base_uri": "https://localhost:8080/"
        },
        "id": "pN9DWtyJdcKv",
        "outputId": "ec226973-034f-4661-b6a8-bc8f4ac112f7"
      },
      "execution_count": null,
      "outputs": [
        {
          "output_type": "stream",
          "name": "stdout",
          "text": [
            "Best Tour: [4, 2, 5, 3, 1]\n",
            "Best Fitness: 0.0058823529411764705\n"
          ]
        }
      ]
    },
    {
      "cell_type": "markdown",
      "source": [
        "#*Thank you!*"
      ],
      "metadata": {
        "id": "TYp9c6GzstG-"
      }
    }
  ]
}