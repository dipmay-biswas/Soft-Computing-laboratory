{
  "nbformat": 4,
  "nbformat_minor": 0,
  "metadata": {
    "colab": {
      "provenance": [],
      "authorship_tag": "ABX9TyPCDOxrcr40Ktj4T+I6IoZ0",
      "include_colab_link": true
    },
    "kernelspec": {
      "name": "python3",
      "display_name": "Python 3"
    },
    "language_info": {
      "name": "python"
    }
  },
  "cells": [
    {
      "cell_type": "markdown",
      "metadata": {
        "id": "view-in-github",
        "colab_type": "text"
      },
      "source": [
        "<a href=\"https://colab.research.google.com/github/dipmay-biswas/Soft-Computing-laboratory/blob/master/2021CSB043_assignment_4.ipynb\" target=\"_parent\"><img src=\"https://colab.research.google.com/assets/colab-badge.svg\" alt=\"Open In Colab\"/></a>"
      ]
    },
    {
      "cell_type": "markdown",
      "source": [
        "#Assignment 4: Radial Basis Function Neural Network\n",
        "\n",
        "> Name: ***Dipmay Biswas***\n",
        "\n",
        "> Enrollment ID: ***2021CSB043***"
      ],
      "metadata": {
        "id": "ubrjTKtUq45s"
      }
    },
    {
      "cell_type": "code",
      "execution_count": 1,
      "metadata": {
        "id": "6mQ7HqVqq1kF"
      },
      "outputs": [],
      "source": [
        "import tensorflow as tf\n",
        "import numpy as np\n",
        "import matplotlib.pyplot as plt"
      ]
    },
    {
      "cell_type": "code",
      "source": [
        "(x_train, y_train), (x_test, y_test) = tf.keras.datasets.mnist.load_data()\n",
        "assert x_train.shape == (60000, 28, 28)\n",
        "assert x_test.shape == (10000, 28, 28)\n",
        "assert y_train.shape == (60000,)\n",
        "assert y_test.shape == (10000,)"
      ],
      "metadata": {
        "id": "X5sCP1OWrEOs"
      },
      "execution_count": 18,
      "outputs": []
    },
    {
      "cell_type": "code",
      "source": [
        "plt.imshow(x_train[0])"
      ],
      "metadata": {
        "colab": {
          "base_uri": "https://localhost:8080/",
          "height": 448
        },
        "id": "ra0dvvu1rGVT",
        "outputId": "95bcc652-fc46-4384-839c-7e447c04d3ca"
      },
      "execution_count": 3,
      "outputs": [
        {
          "output_type": "execute_result",
          "data": {
            "text/plain": [
              "<matplotlib.image.AxesImage at 0x7cde329663b0>"
            ]
          },
          "metadata": {},
          "execution_count": 3
        },
        {
          "output_type": "display_data",
          "data": {
            "text/plain": [
              "<Figure size 640x480 with 1 Axes>"
            ],
            "image/png": "[encoded data removed]"
          },
          "metadata": {}
        }
      ]
    },
    {
      "cell_type": "code",
      "source": [
        "def RBF(x, c, s):\n",
        "  return (np.exp(-np.sum((x - c)**2)/2*(s**2)))"
      ],
      "metadata": {
        "id": "QtH13USNrIN0"
      },
      "execution_count": 4,
      "outputs": []
    },
    {
      "cell_type": "code",
      "source": [
        "2**2"
      ],
      "metadata": {
        "colab": {
          "base_uri": "https://localhost:8080/",
          "height": 0
        },
        "id": "B4QLPIOqrKgp",
        "outputId": "6f99edae-9ca2-4cef-d10e-e0a35affdd8b"
      },
      "execution_count": 5,
      "outputs": [
        {
          "output_type": "execute_result",
          "data": {
            "text/plain": [
              "4"
            ]
          },
          "metadata": {},
          "execution_count": 5
        }
      ]
    },
    {
      "cell_type": "code",
      "source": [
        "newX_train = []\n",
        "newX_test = []"
      ],
      "metadata": {
        "id": "25uwmZdArMPj"
      },
      "execution_count": 6,
      "outputs": []
    },
    {
      "cell_type": "code",
      "source": [
        "x_train.shape"
      ],
      "metadata": {
        "colab": {
          "base_uri": "https://localhost:8080/",
          "height": 0
        },
        "id": "C4kfPdPRrOiZ",
        "outputId": "8825802f-0105-4d0e-8b25-43effb2431f6"
      },
      "execution_count": 7,
      "outputs": [
        {
          "output_type": "execute_result",
          "data": {
            "text/plain": [
              "(60000, 28, 28)"
            ]
          },
          "metadata": {},
          "execution_count": 7
        }
      ]
    },
    {
      "cell_type": "code",
      "source": [
        "for img in range(x_train.shape[0]):\n",
        "  # print(i)\n",
        "  image = x_train[img]\n",
        "  mean = np.mean(image)\n",
        "  # print(mean)\n",
        "  newImg = np.zeros((32, 32))\n",
        "  for i in range(32):\n",
        "    for j in range(32):\n",
        "      x, y = i%28 , j%28\n",
        "\n",
        "      newImg[i][j] = RBF(image[x, y], mean, 1)\n",
        "  newX_train.append(newImg)"
      ],
      "metadata": {
        "id": "SKTNKhUDrQV_"
      },
      "execution_count": 8,
      "outputs": []
    },
    {
      "cell_type": "code",
      "source": [
        "x_train = np.array(newX_train)"
      ],
      "metadata": {
        "id": "NxYJwBJWrShv"
      },
      "execution_count": 9,
      "outputs": []
    },
    {
      "cell_type": "code",
      "source": [
        "x_train.shape"
      ],
      "metadata": {
        "colab": {
          "base_uri": "https://localhost:8080/",
          "height": 0
        },
        "id": "sghitaT_rUPn",
        "outputId": "1d3ca994-beb5-48c7-9e26-8a92f12c2303"
      },
      "execution_count": 10,
      "outputs": [
        {
          "output_type": "execute_result",
          "data": {
            "text/plain": [
              "(60000, 32, 32)"
            ]
          },
          "metadata": {},
          "execution_count": 10
        }
      ]
    },
    {
      "cell_type": "code",
      "source": [
        "for img in range(x_test.shape[0]):\n",
        "  # print(i)\n",
        "  image = x_test[img]\n",
        "  mean = np.mean(image)\n",
        "  # print(mean)\n",
        "  newImg = np.zeros((32, 32))\n",
        "  for i in range(32):\n",
        "    for j in range(32):\n",
        "      x, y = i%28 , j%28\n",
        "\n",
        "      newImg[i][j] = RBF(image[x, y], mean, 1)\n",
        "  newX_test.append(newImg)"
      ],
      "metadata": {
        "id": "SbE0WxdzrVvZ"
      },
      "execution_count": 11,
      "outputs": []
    },
    {
      "cell_type": "code",
      "source": [
        "x_test = np.array(newX_test)"
      ],
      "metadata": {
        "id": "HpJRXIa6rX3D"
      },
      "execution_count": 12,
      "outputs": []
    },
    {
      "cell_type": "code",
      "source": [
        "rbfmodel = tf.keras.Sequential([\n",
        "      # First define a Flatten layer\n",
        "      tf.keras.layers.Flatten(),\n",
        "      tf.keras.layers.Dense(32*32, activation=tf.nn.relu),\n",
        "      # ''' Define the activation function for the first fully connected (Dense) layer.'''\n",
        "      tf.keras.layers.Dense(1400, activation=tf.math.sigmoid),\n",
        "      # tf.keras.layers.Dense(128, activation= '''TODO'''),\n",
        "\n",
        "      # ''' Define the second Dense layer to output the classification probabilities'''\n",
        "      tf.keras.layers.Dense(10, activation=tf.nn.softmax)\n",
        "      #  Dense layer to output classification probabilities\n",
        "\n",
        "  ])\n",
        "rbfmodel.compile(optimizer=tf.keras.optimizers.SGD(learning_rate=1e-1),\n",
        "              loss='sparse_categorical_crossentropy',\n",
        "              metrics=['accuracy'])"
      ],
      "metadata": {
        "id": "JzxAwj3nrZrp"
      },
      "execution_count": 13,
      "outputs": []
    },
    {
      "cell_type": "code",
      "source": [
        "BATCH_SIZE = 64\n",
        "EPOCHS = 20\n",
        "\n",
        "history = rbfmodel.fit(x_train, y_train, batch_size=BATCH_SIZE, epochs=EPOCHS)"
      ],
      "metadata": {
        "colab": {
          "base_uri": "https://localhost:8080/",
          "height": 0
        },
        "id": "ROC3a-vHrb7X",
        "outputId": "bb81869a-01fc-425d-a232-8b86494a50c3"
      },
      "execution_count": 14,
      "outputs": [
        {
          "output_type": "stream",
          "name": "stdout",
          "text": [
            "Epoch 1/20\n",
            "938/938 [==============================] - 29s 31ms/step - loss: 4.0470 - accuracy: 0.1027\n",
            "Epoch 2/20\n",
            "938/938 [==============================] - 29s 30ms/step - loss: 2.3437 - accuracy: 0.1040\n",
            "Epoch 3/20\n",
            "938/938 [==============================] - 28s 30ms/step - loss: 2.3201 - accuracy: 0.1059\n",
            "Epoch 4/20\n",
            "938/938 [==============================] - 29s 31ms/step - loss: 2.3127 - accuracy: 0.1059\n",
            "Epoch 5/20\n",
            "938/938 [==============================] - 29s 31ms/step - loss: 2.3093 - accuracy: 0.1084\n",
            "Epoch 6/20\n",
            "938/938 [==============================] - 29s 31ms/step - loss: 2.3073 - accuracy: 0.1081\n",
            "Epoch 7/20\n",
            "938/938 [==============================] - 29s 31ms/step - loss: 2.3046 - accuracy: 0.1090\n",
            "Epoch 8/20\n",
            "938/938 [==============================] - 28s 30ms/step - loss: 2.3037 - accuracy: 0.1130\n",
            "Epoch 9/20\n",
            "938/938 [==============================] - 28s 30ms/step - loss: 2.3027 - accuracy: 0.1150\n",
            "Epoch 10/20\n",
            "938/938 [==============================] - 28s 29ms/step - loss: 2.3018 - accuracy: 0.1149\n",
            "Epoch 11/20\n",
            "938/938 [==============================] - 28s 30ms/step - loss: 2.3008 - accuracy: 0.1176\n",
            "Epoch 12/20\n",
            "938/938 [==============================] - 29s 31ms/step - loss: 2.3005 - accuracy: 0.1194\n",
            "Epoch 13/20\n",
            "938/938 [==============================] - 29s 30ms/step - loss: 2.2994 - accuracy: 0.1218\n",
            "Epoch 14/20\n",
            "938/938 [==============================] - 29s 30ms/step - loss: 2.2984 - accuracy: 0.1241\n",
            "Epoch 15/20\n",
            "938/938 [==============================] - 29s 30ms/step - loss: 2.2971 - accuracy: 0.1269\n",
            "Epoch 16/20\n",
            "938/938 [==============================] - 29s 31ms/step - loss: 2.2954 - accuracy: 0.1285\n",
            "Epoch 17/20\n",
            "938/938 [==============================] - 29s 31ms/step - loss: 2.2933 - accuracy: 0.1339\n",
            "Epoch 18/20\n",
            "938/938 [==============================] - 29s 31ms/step - loss: 2.2901 - accuracy: 0.1367\n",
            "Epoch 19/20\n",
            "938/938 [==============================] - 28s 30ms/step - loss: 2.2859 - accuracy: 0.1408\n",
            "Epoch 20/20\n",
            "938/938 [==============================] - 29s 30ms/step - loss: 2.2802 - accuracy: 0.1445\n"
          ]
        }
      ]
    },
    {
      "cell_type": "code",
      "source": [
        "plt.plot(history.history['loss'])\n",
        "plt.title(\"loss vs epoch\")\n",
        "plt.xlabel(\"epoch\")\n",
        "plt.ylabel(\"training loss\")\n",
        "plt.savefig(\"Performance\")"
      ],
      "metadata": {
        "colab": {
          "base_uri": "https://localhost:8080/",
          "height": 472
        },
        "id": "7PHoBV4yreNL",
        "outputId": "4526341f-6de9-4c39-bc97-953810db62a0"
      },
      "execution_count": 15,
      "outputs": [
        {
          "output_type": "display_data",
          "data": {
            "text/plain": [
              "<Figure size 640x480 with 1 Axes>"
            ],
            "image/png": "[encoded data removed]"
          },
          "metadata": {}
        }
      ]
    },
    {
      "cell_type": "code",
      "source": [
        "print(\"evaluation accuracy\")\n",
        "eval = rbfmodel.evaluate(x = x_test, y = y_test, batch_size = 1)"
      ],
      "metadata": {
        "colab": {
          "base_uri": "https://localhost:8080/",
          "height": 0
        },
        "id": "zcRox1bQrgcV",
        "outputId": "36c92245-34d8-4e53-e98b-572354f4f45e"
      },
      "execution_count": 16,
      "outputs": [
        {
          "output_type": "stream",
          "name": "stdout",
          "text": [
            "evaluation accuracy\n",
            "10000/10000 [==============================] - 23s 2ms/step - loss: 2.2823 - accuracy: 0.1549\n"
          ]
        }
      ]
    },
    {
      "cell_type": "code",
      "source": [
        "import numpy as np\n",
        "from sklearn.metrics import accuracy_score, precision_score, recall_score, f1_score, confusion_matrix\n",
        "\n",
        "\n",
        "\n",
        "# Make predictions on the test data\n",
        "y_pred = rbfmodel.predict(x_test)\n",
        "y_pred_classes = np.argmax(y_pred, axis=1)\n",
        "\n",
        "# Calculate accuracy\n",
        "accuracy = accuracy_score(y_test, y_pred_classes)\n",
        "print(f'Accuracy: {accuracy}')\n",
        "\n",
        "# Calculate precision, recall, and F1-score for each class\n",
        "precision = precision_score(y_test, y_pred_classes, average=None)\n",
        "recall = recall_score(y_test, y_pred_classes, average=None)\n",
        "f1 = f1_score(y_test, y_pred_classes, average=None)\n",
        "\n",
        "# Calculate confusion matrix\n",
        "conf_matrix = confusion_matrix(y_test, y_pred_classes)\n",
        "print('Confusion Matrix:')\n",
        "print(conf_matrix)\n",
        "\n",
        "# Print precision, recall, and F1-score for each class\n",
        "for i in range(10):\n",
        "    print(f'Class {i}: Precision={precision[i]}, Recall={recall[i]}, F1-Score={f1[i]}')"
      ],
      "metadata": {
        "colab": {
          "base_uri": "https://localhost:8080/",
          "height": 0
        },
        "id": "mW3rmemHrlDC",
        "outputId": "11b796cf-0d23-49c9-d86d-7c795ff651cb"
      },
      "execution_count": 17,
      "outputs": [
        {
          "output_type": "stream",
          "name": "stdout",
          "text": [
            "313/313 [==============================] - 2s 7ms/step\n",
            "Accuracy: 0.1549\n",
            "Confusion Matrix:\n",
            "[[ 194  531    0    0    0    0    0  255    0    0]\n",
            " [  22 1002    0    0    0    0    0  111    0    0]\n",
            " [ 163  603    0    0    0    0    0  266    0    0]\n",
            " [ 179  545    0    0    0    0    0  286    0    0]\n",
            " [ 147  522    0    0    0    0    0  313    0    0]\n",
            " [ 130  511    0    0    0    0    0  251    0    0]\n",
            " [ 176  567    0    0    0    0    0  215    0    0]\n",
            " [  83  592    0    0    0    0    0  353    0    0]\n",
            " [ 146  532    0    0    0    0    0  296    0    0]\n",
            " [  95  571    0    0    0    0    0  343    0    0]]\n",
            "Class 0: Precision=0.1453183520599251, Recall=0.19795918367346937, F1-Score=0.16760259179265657\n",
            "Class 1: Precision=0.1676706827309237, Recall=0.8828193832599119, F1-Score=0.28181690338911547\n",
            "Class 2: Precision=0.0, Recall=0.0, F1-Score=0.0\n",
            "Class 3: Precision=0.0, Recall=0.0, F1-Score=0.0\n",
            "Class 4: Precision=0.0, Recall=0.0, F1-Score=0.0\n",
            "Class 5: Precision=0.0, Recall=0.0, F1-Score=0.0\n",
            "Class 6: Precision=0.0, Recall=0.0, F1-Score=0.0\n",
            "Class 7: Precision=0.1312755671253254, Recall=0.3433852140077821, F1-Score=0.18993812214151198\n",
            "Class 8: Precision=0.0, Recall=0.0, F1-Score=0.0\n",
            "Class 9: Precision=0.0, Recall=0.0, F1-Score=0.0\n"
          ]
        },
        {
          "output_type": "stream",
          "name": "stderr",
          "text": [
            "/usr/local/lib/python3.10/dist-packages/sklearn/metrics/_classification.py:1344: UndefinedMetricWarning: Precision is ill-defined and being set to 0.0 in labels with no predicted samples. Use `zero_division` parameter to control this behavior.\n",
            "  _warn_prf(average, modifier, msg_start, len(result))\n"
          ]
        }
      ]
    },
    {
      "cell_type": "markdown",
      "source": [
        "#*Thank you!*"
      ],
      "metadata": {
        "id": "TUOhEZ79ucoi"
      }
    }
  ]
}